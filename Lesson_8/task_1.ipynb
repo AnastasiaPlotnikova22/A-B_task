{
 "cells": [
  {
   "cell_type": "code",
   "execution_count": 28,
   "metadata": {},
   "outputs": [
    {
     "name": "stdout",
     "output_type": "stream",
     "text": [
      "Collecting statsmodels\n",
      "  Downloading statsmodels-0.14.2-cp312-cp312-win_amd64.whl.metadata (9.5 kB)\n",
      "Requirement already satisfied: numpy>=1.22.3 in c:\\python\\lib\\site-packages (from statsmodels) (1.26.4)\n",
      "Requirement already satisfied: scipy!=1.9.2,>=1.8 in c:\\python\\lib\\site-packages (from statsmodels) (1.14.0)\n",
      "Requirement already satisfied: pandas!=2.1.0,>=1.4 in c:\\python\\lib\\site-packages (from statsmodels) (2.2.2)\n",
      "Collecting patsy>=0.5.6 (from statsmodels)\n",
      "  Downloading patsy-0.5.6-py2.py3-none-any.whl.metadata (3.5 kB)\n",
      "Requirement already satisfied: packaging>=21.3 in c:\\users\\user\\appdata\\roaming\\python\\python312\\site-packages (from statsmodels) (24.1)\n",
      "Requirement already satisfied: python-dateutil>=2.8.2 in c:\\users\\user\\appdata\\roaming\\python\\python312\\site-packages (from pandas!=2.1.0,>=1.4->statsmodels) (2.9.0.post0)\n",
      "Requirement already satisfied: pytz>=2020.1 in c:\\python\\lib\\site-packages (from pandas!=2.1.0,>=1.4->statsmodels) (2024.1)\n",
      "Requirement already satisfied: tzdata>=2022.7 in c:\\python\\lib\\site-packages (from pandas!=2.1.0,>=1.4->statsmodels) (2024.1)\n",
      "Requirement already satisfied: six in c:\\users\\user\\appdata\\roaming\\python\\python312\\site-packages (from patsy>=0.5.6->statsmodels) (1.16.0)\n",
      "Downloading statsmodels-0.14.2-cp312-cp312-win_amd64.whl (9.8 MB)\n",
      "   ---------------------------------------- 0.0/9.8 MB ? eta -:--:--\n",
      "   ---------------------------------------- 0.0/9.8 MB 1.3 MB/s eta 0:00:08\n",
      "   ---------------------------------------- 0.0/9.8 MB 1.3 MB/s eta 0:00:08\n",
      "   ---------------------------------------- 0.1/9.8 MB 744.7 kB/s eta 0:00:14\n",
      "   ---------------------------------------- 0.1/9.8 MB 490.2 kB/s eta 0:00:20\n",
      "    --------------------------------------- 0.2/9.8 MB 610.0 kB/s eta 0:00:16\n",
      "    --------------------------------------- 0.2/9.8 MB 762.6 kB/s eta 0:00:13\n",
      "   - -------------------------------------- 0.3/9.8 MB 842.9 kB/s eta 0:00:12\n",
      "   - -------------------------------------- 0.3/9.8 MB 901.1 kB/s eta 0:00:11\n",
      "   - -------------------------------------- 0.4/9.8 MB 897.8 kB/s eta 0:00:11\n",
      "   - -------------------------------------- 0.4/9.8 MB 829.7 kB/s eta 0:00:12\n",
      "   - -------------------------------------- 0.4/9.8 MB 865.6 kB/s eta 0:00:11\n",
      "   -- ------------------------------------- 0.5/9.8 MB 891.2 kB/s eta 0:00:11\n",
      "   -- ------------------------------------- 0.5/9.8 MB 903.5 kB/s eta 0:00:11\n",
      "   -- ------------------------------------- 0.5/9.8 MB 903.5 kB/s eta 0:00:11\n",
      "   -- ------------------------------------- 0.6/9.8 MB 848.4 kB/s eta 0:00:11\n",
      "   -- ------------------------------------- 0.6/9.8 MB 846.5 kB/s eta 0:00:11\n",
      "   -- ------------------------------------- 0.7/9.8 MB 835.1 kB/s eta 0:00:11\n",
      "   -- ------------------------------------- 0.7/9.8 MB 837.2 kB/s eta 0:00:11\n",
      "   -- ------------------------------------- 0.7/9.8 MB 837.2 kB/s eta 0:00:11\n",
      "   -- ------------------------------------- 0.7/9.8 MB 837.2 kB/s eta 0:00:11\n",
      "   -- ------------------------------------- 0.7/9.8 MB 837.2 kB/s eta 0:00:11\n",
      "   -- ------------------------------------- 0.7/9.8 MB 837.2 kB/s eta 0:00:11\n",
      "   -- ------------------------------------- 0.7/9.8 MB 837.2 kB/s eta 0:00:11\n",
      "   -- ------------------------------------- 0.7/9.8 MB 837.2 kB/s eta 0:00:11\n",
      "   -- ------------------------------------- 0.7/9.8 MB 837.2 kB/s eta 0:00:11\n",
      "   -- ------------------------------------- 0.7/9.8 MB 837.2 kB/s eta 0:00:11\n",
      "   -- ------------------------------------- 0.7/9.8 MB 837.2 kB/s eta 0:00:11\n",
      "   -- ------------------------------------- 0.7/9.8 MB 837.2 kB/s eta 0:00:11\n",
      "   -- ------------------------------------- 0.7/9.8 MB 837.2 kB/s eta 0:00:11\n",
      "   -- ------------------------------------- 0.7/9.8 MB 837.2 kB/s eta 0:00:11\n",
      "   -- ------------------------------------- 0.7/9.8 MB 837.2 kB/s eta 0:00:11\n",
      "   -- ------------------------------------- 0.7/9.8 MB 837.2 kB/s eta 0:00:11\n",
      "   -- ------------------------------------- 0.7/9.8 MB 837.2 kB/s eta 0:00:11\n",
      "   --- ------------------------------------ 0.8/9.8 MB 485.2 kB/s eta 0:00:19\n",
      "   --- ------------------------------------ 0.8/9.8 MB 490.0 kB/s eta 0:00:19\n",
      "   --- ------------------------------------ 0.8/9.8 MB 490.0 kB/s eta 0:00:19\n",
      "   --- ------------------------------------ 0.8/9.8 MB 474.0 kB/s eta 0:00:19\n",
      "   --- ------------------------------------ 0.8/9.8 MB 474.0 kB/s eta 0:00:19\n",
      "   --- ------------------------------------ 0.9/9.8 MB 464.9 kB/s eta 0:00:20\n",
      "   --- ------------------------------------ 0.9/9.8 MB 464.9 kB/s eta 0:00:20\n",
      "   --- ------------------------------------ 0.9/9.8 MB 464.9 kB/s eta 0:00:20\n",
      "   --- ------------------------------------ 0.9/9.8 MB 442.1 kB/s eta 0:00:21\n",
      "   --- ------------------------------------ 0.9/9.8 MB 445.2 kB/s eta 0:00:20\n",
      "   ---- ----------------------------------- 1.0/9.8 MB 469.5 kB/s eta 0:00:19\n",
      "   ---- ----------------------------------- 1.1/9.8 MB 493.7 kB/s eta 0:00:18\n",
      "   ---- ----------------------------------- 1.2/9.8 MB 543.8 kB/s eta 0:00:16\n",
      "   ----- ---------------------------------- 1.2/9.8 MB 554.4 kB/s eta 0:00:16\n",
      "   ----- ---------------------------------- 1.3/9.8 MB 569.4 kB/s eta 0:00:15\n",
      "   ----- ---------------------------------- 1.4/9.8 MB 598.2 kB/s eta 0:00:15\n",
      "   ----- ---------------------------------- 1.4/9.8 MB 598.2 kB/s eta 0:00:15\n",
      "   ------ --------------------------------- 1.5/9.8 MB 625.4 kB/s eta 0:00:14\n",
      "   ------ --------------------------------- 1.6/9.8 MB 626.4 kB/s eta 0:00:14\n",
      "   ------ --------------------------------- 1.6/9.8 MB 639.0 kB/s eta 0:00:13\n",
      "   ------ --------------------------------- 1.7/9.8 MB 647.4 kB/s eta 0:00:13\n",
      "   ------ --------------------------------- 1.7/9.8 MB 647.6 kB/s eta 0:00:13\n",
      "   ------- -------------------------------- 1.7/9.8 MB 643.8 kB/s eta 0:00:13\n",
      "   ------- -------------------------------- 1.7/9.8 MB 643.8 kB/s eta 0:00:13\n",
      "   ------- -------------------------------- 1.8/9.8 MB 655.3 kB/s eta 0:00:13\n",
      "   ------- -------------------------------- 1.9/9.8 MB 658.9 kB/s eta 0:00:13\n",
      "   ------- -------------------------------- 1.9/9.8 MB 658.8 kB/s eta 0:00:13\n",
      "   ------- -------------------------------- 1.9/9.8 MB 658.7 kB/s eta 0:00:12\n",
      "   -------- ------------------------------- 2.0/9.8 MB 665.7 kB/s eta 0:00:12\n",
      "   -------- ------------------------------- 2.0/9.8 MB 679.2 kB/s eta 0:00:12\n",
      "   -------- ------------------------------- 2.1/9.8 MB 682.2 kB/s eta 0:00:12\n",
      "   -------- ------------------------------- 2.1/9.8 MB 681.8 kB/s eta 0:00:12\n",
      "   -------- ------------------------------- 2.1/9.8 MB 678.1 kB/s eta 0:00:12\n",
      "   -------- ------------------------------- 2.2/9.8 MB 687.4 kB/s eta 0:00:12\n",
      "   --------- ------------------------------ 2.3/9.8 MB 699.5 kB/s eta 0:00:11\n",
      "   --------- ------------------------------ 2.3/9.8 MB 705.5 kB/s eta 0:00:11\n",
      "   --------- ------------------------------ 2.4/9.8 MB 701.2 kB/s eta 0:00:11\n",
      "   ---------- ----------------------------- 2.5/9.8 MB 739.4 kB/s eta 0:00:10\n",
      "   ---------- ----------------------------- 2.6/9.8 MB 744.3 kB/s eta 0:00:10\n",
      "   ---------- ----------------------------- 2.7/9.8 MB 763.6 kB/s eta 0:00:10\n",
      "   ----------- ---------------------------- 2.8/9.8 MB 783.4 kB/s eta 0:00:10\n",
      "   ----------- ---------------------------- 2.9/9.8 MB 795.6 kB/s eta 0:00:09\n",
      "   ------------ --------------------------- 3.0/9.8 MB 813.5 kB/s eta 0:00:09\n",
      "   ------------ --------------------------- 3.0/9.8 MB 813.5 kB/s eta 0:00:09\n",
      "   ------------ --------------------------- 3.0/9.8 MB 809.5 kB/s eta 0:00:09\n",
      "   ------------ --------------------------- 3.2/9.8 MB 840.2 kB/s eta 0:00:08\n",
      "   ------------- -------------------------- 3.2/9.8 MB 842.6 kB/s eta 0:00:08\n",
      "   ------------- -------------------------- 3.3/9.8 MB 853.6 kB/s eta 0:00:08\n",
      "   ------------- -------------------------- 3.4/9.8 MB 864.2 kB/s eta 0:00:08\n",
      "   -------------- ------------------------- 3.5/9.8 MB 887.5 kB/s eta 0:00:08\n",
      "   -------------- ------------------------- 3.6/9.8 MB 904.5 kB/s eta 0:00:07\n",
      "   -------------- ------------------------- 3.6/9.8 MB 889.7 kB/s eta 0:00:07\n",
      "   -------------- ------------------------- 3.6/9.8 MB 891.4 kB/s eta 0:00:07\n",
      "   --------------- ------------------------ 3.7/9.8 MB 893.7 kB/s eta 0:00:07\n",
      "   --------------- ------------------------ 3.7/9.8 MB 876.2 kB/s eta 0:00:07\n",
      "   --------------- ------------------------ 3.9/9.8 MB 913.2 kB/s eta 0:00:07\n",
      "   ---------------- ----------------------- 4.0/9.8 MB 922.2 kB/s eta 0:00:07\n",
      "   ---------------- ----------------------- 4.0/9.8 MB 922.2 kB/s eta 0:00:07\n",
      "   ---------------- ----------------------- 4.0/9.8 MB 903.9 kB/s eta 0:00:07\n",
      "   ----------------- ---------------------- 4.2/9.8 MB 940.5 kB/s eta 0:00:06\n",
      "   ----------------- ---------------------- 4.3/9.8 MB 949.8 kB/s eta 0:00:06\n",
      "   ----------------- ---------------------- 4.3/9.8 MB 950.1 kB/s eta 0:00:06\n",
      "   ------------------ --------------------- 4.5/9.8 MB 976.3 kB/s eta 0:00:06\n",
      "   ------------------ --------------------- 4.6/9.8 MB 981.9 kB/s eta 0:00:06\n",
      "   ------------------ --------------------- 4.6/9.8 MB 974.2 kB/s eta 0:00:06\n",
      "   ------------------- -------------------- 4.7/9.8 MB 986.2 kB/s eta 0:00:06\n",
      "   ------------------- -------------------- 4.8/9.8 MB 995.7 kB/s eta 0:00:06\n",
      "   ------------------- -------------------- 4.8/9.8 MB 994.7 kB/s eta 0:00:06\n",
      "   ------------------- -------------------- 4.9/9.8 MB 1.0 MB/s eta 0:00:05\n",
      "   -------------------- ------------------- 4.9/9.8 MB 1.0 MB/s eta 0:00:05\n",
      "   -------------------- ------------------- 5.0/9.8 MB 1.0 MB/s eta 0:00:05\n",
      "   -------------------- ------------------- 5.0/9.8 MB 1.0 MB/s eta 0:00:05\n",
      "   -------------------- ------------------- 5.1/9.8 MB 1.0 MB/s eta 0:00:05\n",
      "   --------------------- ------------------ 5.2/9.8 MB 1.0 MB/s eta 0:00:05\n",
      "   --------------------- ------------------ 5.3/9.8 MB 1.0 MB/s eta 0:00:05\n",
      "   ---------------------- ----------------- 5.5/9.8 MB 1.1 MB/s eta 0:00:05\n",
      "   ---------------------- ----------------- 5.5/9.8 MB 1.0 MB/s eta 0:00:05\n",
      "   ---------------------- ----------------- 5.6/9.8 MB 1.1 MB/s eta 0:00:05\n",
      "   ----------------------- ---------------- 5.7/9.8 MB 1.1 MB/s eta 0:00:04\n",
      "   ----------------------- ---------------- 5.8/9.8 MB 1.1 MB/s eta 0:00:04\n",
      "   ----------------------- ---------------- 5.8/9.8 MB 1.1 MB/s eta 0:00:04\n",
      "   ------------------------ --------------- 6.0/9.8 MB 1.1 MB/s eta 0:00:04\n",
      "   ------------------------ --------------- 6.0/9.8 MB 1.1 MB/s eta 0:00:04\n",
      "   ------------------------ --------------- 6.1/9.8 MB 1.1 MB/s eta 0:00:04\n",
      "   ------------------------ --------------- 6.1/9.8 MB 1.1 MB/s eta 0:00:04\n",
      "   ------------------------ --------------- 6.1/9.8 MB 1.1 MB/s eta 0:00:04\n",
      "   ------------------------ --------------- 6.1/9.8 MB 1.1 MB/s eta 0:00:04\n",
      "   ------------------------ --------------- 6.1/9.8 MB 1.1 MB/s eta 0:00:04\n",
      "   ------------------------- -------------- 6.4/9.8 MB 1.1 MB/s eta 0:00:04\n",
      "   -------------------------- ------------- 6.4/9.8 MB 1.1 MB/s eta 0:00:04\n",
      "   -------------------------- ------------- 6.5/9.8 MB 1.1 MB/s eta 0:00:04\n",
      "   -------------------------- ------------- 6.6/9.8 MB 1.1 MB/s eta 0:00:03\n",
      "   --------------------------- ------------ 6.7/9.8 MB 1.1 MB/s eta 0:00:03\n",
      "   --------------------------- ------------ 6.7/9.8 MB 1.1 MB/s eta 0:00:03\n",
      "   ---------------------------- ----------- 6.9/9.8 MB 1.1 MB/s eta 0:00:03\n",
      "   ---------------------------- ----------- 7.0/9.8 MB 1.1 MB/s eta 0:00:03\n",
      "   ---------------------------- ----------- 7.1/9.8 MB 1.1 MB/s eta 0:00:03\n",
      "   ----------------------------- ---------- 7.2/9.8 MB 1.1 MB/s eta 0:00:03\n",
      "   ----------------------------- ---------- 7.2/9.8 MB 1.1 MB/s eta 0:00:03\n",
      "   ------------------------------ --------- 7.4/9.8 MB 1.2 MB/s eta 0:00:03\n",
      "   ------------------------------ --------- 7.5/9.8 MB 1.2 MB/s eta 0:00:03\n",
      "   ------------------------------ --------- 7.6/9.8 MB 1.2 MB/s eta 0:00:02\n",
      "   ------------------------------ --------- 7.6/9.8 MB 1.2 MB/s eta 0:00:02\n",
      "   ------------------------------- -------- 7.6/9.8 MB 1.2 MB/s eta 0:00:02\n",
      "   ------------------------------- -------- 7.6/9.8 MB 1.2 MB/s eta 0:00:02\n",
      "   ------------------------------- -------- 7.6/9.8 MB 1.2 MB/s eta 0:00:02\n",
      "   ------------------------------- -------- 7.7/9.8 MB 1.1 MB/s eta 0:00:02\n",
      "   -------------------------------- ------- 8.0/9.8 MB 1.2 MB/s eta 0:00:02\n",
      "   -------------------------------- ------- 8.1/9.8 MB 1.2 MB/s eta 0:00:02\n",
      "   --------------------------------- ------ 8.2/9.8 MB 1.2 MB/s eta 0:00:02\n",
      "   --------------------------------- ------ 8.3/9.8 MB 1.2 MB/s eta 0:00:02\n",
      "   ---------------------------------- ----- 8.4/9.8 MB 1.2 MB/s eta 0:00:02\n",
      "   ---------------------------------- ----- 8.5/9.8 MB 1.2 MB/s eta 0:00:02\n",
      "   ---------------------------------- ----- 8.5/9.8 MB 1.2 MB/s eta 0:00:02\n",
      "   ----------------------------------- ---- 8.7/9.8 MB 1.2 MB/s eta 0:00:01\n",
      "   ------------------------------------ --- 8.8/9.8 MB 1.2 MB/s eta 0:00:01\n",
      "   ------------------------------------ --- 8.9/9.8 MB 1.3 MB/s eta 0:00:01\n",
      "   ------------------------------------ --- 9.0/9.8 MB 1.3 MB/s eta 0:00:01\n",
      "   ------------------------------------ --- 9.0/9.8 MB 1.3 MB/s eta 0:00:01\n",
      "   ------------------------------------ --- 9.0/9.8 MB 1.3 MB/s eta 0:00:01\n",
      "   ------------------------------------- -- 9.3/9.8 MB 1.3 MB/s eta 0:00:01\n",
      "   -------------------------------------- - 9.5/9.8 MB 1.3 MB/s eta 0:00:01\n",
      "   -------------------------------------- - 9.5/9.8 MB 1.3 MB/s eta 0:00:01\n",
      "   -------------------------------------- - 9.6/9.8 MB 1.3 MB/s eta 0:00:01\n",
      "   ---------------------------------------  9.7/9.8 MB 1.3 MB/s eta 0:00:01\n",
      "   ---------------------------------------  9.7/9.8 MB 1.3 MB/s eta 0:00:01\n",
      "   ---------------------------------------- 9.8/9.8 MB 1.3 MB/s eta 0:00:00\n",
      "Downloading patsy-0.5.6-py2.py3-none-any.whl (233 kB)\n",
      "   ---------------------------------------- 0.0/233.9 kB ? eta -:--:--\n",
      "   ------------ --------------------------- 71.7/233.9 kB 2.0 MB/s eta 0:00:01\n",
      "   -------------------------- ------------- 153.6/233.9 kB 1.8 MB/s eta 0:00:01\n",
      "   ---------------------------------------- 233.9/233.9 kB 2.1 MB/s eta 0:00:00\n",
      "Installing collected packages: patsy, statsmodels\n",
      "Successfully installed patsy-0.5.6 statsmodels-0.14.2\n",
      "Note: you may need to restart the kernel to use updated packages.\n"
     ]
    },
    {
     "name": "stderr",
     "output_type": "stream",
     "text": [
      "\n",
      "[notice] A new release of pip is available: 24.0 -> 24.2\n",
      "[notice] To update, run: python.exe -m pip install --upgrade pip\n"
     ]
    }
   ],
   "source": [
    "pip install statsmodels"
   ]
  },
  {
   "cell_type": "code",
   "execution_count": 2,
   "metadata": {},
   "outputs": [
    {
     "name": "stdout",
     "output_type": "stream",
     "text": [
      "Collecting seaborn\n",
      "  Downloading seaborn-0.13.2-py3-none-any.whl.metadata (5.4 kB)\n",
      "Requirement already satisfied: numpy!=1.24.0,>=1.20 in c:\\python\\lib\\site-packages (from seaborn) (1.26.4)\n",
      "Requirement already satisfied: pandas>=1.2 in c:\\python\\lib\\site-packages (from seaborn) (2.2.2)\n",
      "Requirement already satisfied: matplotlib!=3.6.1,>=3.4 in c:\\python\\lib\\site-packages (from seaborn) (3.9.0)\n",
      "Requirement already satisfied: contourpy>=1.0.1 in c:\\python\\lib\\site-packages (from matplotlib!=3.6.1,>=3.4->seaborn) (1.2.1)\n",
      "Requirement already satisfied: cycler>=0.10 in c:\\python\\lib\\site-packages (from matplotlib!=3.6.1,>=3.4->seaborn) (0.12.1)\n",
      "Requirement already satisfied: fonttools>=4.22.0 in c:\\python\\lib\\site-packages (from matplotlib!=3.6.1,>=3.4->seaborn) (4.53.0)\n",
      "Requirement already satisfied: kiwisolver>=1.3.1 in c:\\python\\lib\\site-packages (from matplotlib!=3.6.1,>=3.4->seaborn) (1.4.5)\n",
      "Requirement already satisfied: packaging>=20.0 in c:\\users\\user\\appdata\\roaming\\python\\python312\\site-packages (from matplotlib!=3.6.1,>=3.4->seaborn) (24.1)\n",
      "Requirement already satisfied: pillow>=8 in c:\\python\\lib\\site-packages (from matplotlib!=3.6.1,>=3.4->seaborn) (10.3.0)\n",
      "Requirement already satisfied: pyparsing>=2.3.1 in c:\\python\\lib\\site-packages (from matplotlib!=3.6.1,>=3.4->seaborn) (3.1.2)\n",
      "Requirement already satisfied: python-dateutil>=2.7 in c:\\users\\user\\appdata\\roaming\\python\\python312\\site-packages (from matplotlib!=3.6.1,>=3.4->seaborn) (2.9.0.post0)\n",
      "Requirement already satisfied: pytz>=2020.1 in c:\\python\\lib\\site-packages (from pandas>=1.2->seaborn) (2024.1)\n",
      "Requirement already satisfied: tzdata>=2022.7 in c:\\python\\lib\\site-packages (from pandas>=1.2->seaborn) (2024.1)\n",
      "Requirement already satisfied: six>=1.5 in c:\\users\\user\\appdata\\roaming\\python\\python312\\site-packages (from python-dateutil>=2.7->matplotlib!=3.6.1,>=3.4->seaborn) (1.16.0)\n",
      "Downloading seaborn-0.13.2-py3-none-any.whl (294 kB)\n",
      "   ---------------------------------------- 0.0/294.9 kB ? eta -:--:--\n",
      "   - -------------------------------------- 10.2/294.9 kB ? eta -:--:--\n",
      "   -------- ------------------------------ 61.4/294.9 kB 656.4 kB/s eta 0:00:01\n",
      "   -------------- ----------------------- 112.6/294.9 kB 939.4 kB/s eta 0:00:01\n",
      "   ---------------------- --------------- 174.1/294.9 kB 952.6 kB/s eta 0:00:01\n",
      "   -------------------------- ----------- 204.8/294.9 kB 958.4 kB/s eta 0:00:01\n",
      "   ---------------------------------------- 294.9/294.9 kB 1.1 MB/s eta 0:00:00\n",
      "Installing collected packages: seaborn\n",
      "Successfully installed seaborn-0.13.2\n",
      "Note: you may need to restart the kernel to use updated packages.\n"
     ]
    },
    {
     "name": "stderr",
     "output_type": "stream",
     "text": [
      "\n",
      "[notice] A new release of pip is available: 24.0 -> 24.2\n",
      "[notice] To update, run: python.exe -m pip install --upgrade pip\n"
     ]
    }
   ],
   "source": [
    "pip install seaborn"
   ]
  },
  {
   "cell_type": "code",
   "execution_count": 3,
   "metadata": {},
   "outputs": [],
   "source": [
    "from scipy import stats\n",
    "import numpy as np\n",
    "import matplotlib.pyplot as plt\n",
    "import seaborn as sns\n",
    "import pandas as pd\n",
    "import warnings\n",
    "warnings.filterwarnings('ignore')\n",
    "warnings.warn('DelftStack')\n",
    "warnings.warn('Do not show this message')"
   ]
  },
  {
   "cell_type": "code",
   "execution_count": 4,
   "metadata": {},
   "outputs": [],
   "source": [
    "df = pd.read_csv('ab_stats.csv')"
   ]
  },
  {
   "cell_type": "code",
   "execution_count": 5,
   "metadata": {},
   "outputs": [
    {
     "data": {
      "text/html": [
       "<div>\n",
       "<style scoped>\n",
       "    .dataframe tbody tr th:only-of-type {\n",
       "        vertical-align: middle;\n",
       "    }\n",
       "\n",
       "    .dataframe tbody tr th {\n",
       "        vertical-align: top;\n",
       "    }\n",
       "\n",
       "    .dataframe thead th {\n",
       "        text-align: right;\n",
       "    }\n",
       "</style>\n",
       "<table border=\"1\" class=\"dataframe\">\n",
       "  <thead>\n",
       "    <tr style=\"text-align: right;\">\n",
       "      <th></th>\n",
       "      <th>revenue</th>\n",
       "      <th>num_purchases</th>\n",
       "      <th>purchase</th>\n",
       "      <th>ab_group</th>\n",
       "      <th>av_site visit</th>\n",
       "    </tr>\n",
       "  </thead>\n",
       "  <tbody>\n",
       "    <tr>\n",
       "      <th>0</th>\n",
       "      <td>0.0</td>\n",
       "      <td>0</td>\n",
       "      <td>0</td>\n",
       "      <td>A</td>\n",
       "      <td>9.040174</td>\n",
       "    </tr>\n",
       "    <tr>\n",
       "      <th>1</th>\n",
       "      <td>0.0</td>\n",
       "      <td>0</td>\n",
       "      <td>0</td>\n",
       "      <td>A</td>\n",
       "      <td>4.811628</td>\n",
       "    </tr>\n",
       "    <tr>\n",
       "      <th>2</th>\n",
       "      <td>0.0</td>\n",
       "      <td>0</td>\n",
       "      <td>0</td>\n",
       "      <td>A</td>\n",
       "      <td>7.342623</td>\n",
       "    </tr>\n",
       "    <tr>\n",
       "      <th>3</th>\n",
       "      <td>0.0</td>\n",
       "      <td>0</td>\n",
       "      <td>0</td>\n",
       "      <td>A</td>\n",
       "      <td>7.744581</td>\n",
       "    </tr>\n",
       "    <tr>\n",
       "      <th>4</th>\n",
       "      <td>0.0</td>\n",
       "      <td>0</td>\n",
       "      <td>0</td>\n",
       "      <td>A</td>\n",
       "      <td>10.511814</td>\n",
       "    </tr>\n",
       "  </tbody>\n",
       "</table>\n",
       "</div>"
      ],
      "text/plain": [
       "   revenue  num_purchases  purchase ab_group  av_site visit\n",
       "0      0.0              0         0        A       9.040174\n",
       "1      0.0              0         0        A       4.811628\n",
       "2      0.0              0         0        A       7.342623\n",
       "3      0.0              0         0        A       7.744581\n",
       "4      0.0              0         0        A      10.511814"
      ]
     },
     "execution_count": 5,
     "metadata": {},
     "output_type": "execute_result"
    }
   ],
   "source": [
    "df.head()"
   ]
  },
  {
   "cell_type": "code",
   "execution_count": 6,
   "metadata": {},
   "outputs": [
    {
     "data": {
      "text/html": [
       "<div>\n",
       "<style scoped>\n",
       "    .dataframe tbody tr th:only-of-type {\n",
       "        vertical-align: middle;\n",
       "    }\n",
       "\n",
       "    .dataframe tbody tr th {\n",
       "        vertical-align: top;\n",
       "    }\n",
       "\n",
       "    .dataframe thead th {\n",
       "        text-align: right;\n",
       "    }\n",
       "</style>\n",
       "<table border=\"1\" class=\"dataframe\">\n",
       "  <thead>\n",
       "    <tr style=\"text-align: right;\">\n",
       "      <th></th>\n",
       "      <th>revenue</th>\n",
       "      <th>num_purchases</th>\n",
       "      <th>purchase</th>\n",
       "      <th>av_site visit</th>\n",
       "    </tr>\n",
       "  </thead>\n",
       "  <tbody>\n",
       "    <tr>\n",
       "      <th>count</th>\n",
       "      <td>23652.000000</td>\n",
       "      <td>23652.000000</td>\n",
       "      <td>23652.000000</td>\n",
       "      <td>23652.000000</td>\n",
       "    </tr>\n",
       "    <tr>\n",
       "      <th>mean</th>\n",
       "      <td>0.324689</td>\n",
       "      <td>0.043590</td>\n",
       "      <td>0.020717</td>\n",
       "      <td>7.013112</td>\n",
       "    </tr>\n",
       "    <tr>\n",
       "      <th>std</th>\n",
       "      <td>9.557730</td>\n",
       "      <td>1.079403</td>\n",
       "      <td>0.142438</td>\n",
       "      <td>3.154584</td>\n",
       "    </tr>\n",
       "    <tr>\n",
       "      <th>min</th>\n",
       "      <td>0.000000</td>\n",
       "      <td>0.000000</td>\n",
       "      <td>0.000000</td>\n",
       "      <td>-12.073486</td>\n",
       "    </tr>\n",
       "    <tr>\n",
       "      <th>25%</th>\n",
       "      <td>0.000000</td>\n",
       "      <td>0.000000</td>\n",
       "      <td>0.000000</td>\n",
       "      <td>5.173787</td>\n",
       "    </tr>\n",
       "    <tr>\n",
       "      <th>50%</th>\n",
       "      <td>0.000000</td>\n",
       "      <td>0.000000</td>\n",
       "      <td>0.000000</td>\n",
       "      <td>7.007936</td>\n",
       "    </tr>\n",
       "    <tr>\n",
       "      <th>75%</th>\n",
       "      <td>0.000000</td>\n",
       "      <td>0.000000</td>\n",
       "      <td>0.000000</td>\n",
       "      <td>8.864119</td>\n",
       "    </tr>\n",
       "    <tr>\n",
       "      <th>max</th>\n",
       "      <td>1303.609284</td>\n",
       "      <td>152.000000</td>\n",
       "      <td>1.000000</td>\n",
       "      <td>22.446822</td>\n",
       "    </tr>\n",
       "  </tbody>\n",
       "</table>\n",
       "</div>"
      ],
      "text/plain": [
       "            revenue  num_purchases      purchase  av_site visit\n",
       "count  23652.000000   23652.000000  23652.000000   23652.000000\n",
       "mean       0.324689       0.043590      0.020717       7.013112\n",
       "std        9.557730       1.079403      0.142438       3.154584\n",
       "min        0.000000       0.000000      0.000000     -12.073486\n",
       "25%        0.000000       0.000000      0.000000       5.173787\n",
       "50%        0.000000       0.000000      0.000000       7.007936\n",
       "75%        0.000000       0.000000      0.000000       8.864119\n",
       "max     1303.609284     152.000000      1.000000      22.446822"
      ]
     },
     "execution_count": 6,
     "metadata": {},
     "output_type": "execute_result"
    }
   ],
   "source": [
    "df.describe()"
   ]
  },
  {
   "cell_type": "code",
   "execution_count": 7,
   "metadata": {},
   "outputs": [
    {
     "data": {
      "text/plain": [
       "ab_group\n",
       "B    462\n",
       "A      6\n",
       "Name: count, dtype: int64"
      ]
     },
     "execution_count": 7,
     "metadata": {},
     "output_type": "execute_result"
    }
   ],
   "source": [
    "df[df[\"av_site visit\"] < 0 ].ab_group.value_counts()"
   ]
  },
  {
   "cell_type": "code",
   "execution_count": 8,
   "metadata": {},
   "outputs": [
    {
     "data": {
      "text/plain": [
       "0.0197869101978691"
      ]
     },
     "execution_count": 8,
     "metadata": {},
     "output_type": "execute_result"
    }
   ],
   "source": [
    "468/23652"
   ]
  },
  {
   "cell_type": "code",
   "execution_count": 9,
   "metadata": {},
   "outputs": [
    {
     "data": {
      "text/html": [
       "<div>\n",
       "<style scoped>\n",
       "    .dataframe tbody tr th:only-of-type {\n",
       "        vertical-align: middle;\n",
       "    }\n",
       "\n",
       "    .dataframe tbody tr th {\n",
       "        vertical-align: top;\n",
       "    }\n",
       "\n",
       "    .dataframe thead th {\n",
       "        text-align: right;\n",
       "    }\n",
       "</style>\n",
       "<table border=\"1\" class=\"dataframe\">\n",
       "  <thead>\n",
       "    <tr style=\"text-align: right;\">\n",
       "      <th></th>\n",
       "      <th>revenue</th>\n",
       "      <th>num_purchases</th>\n",
       "      <th>purchase</th>\n",
       "      <th>ab_group</th>\n",
       "      <th>av_site visit</th>\n",
       "    </tr>\n",
       "  </thead>\n",
       "  <tbody>\n",
       "  </tbody>\n",
       "</table>\n",
       "</div>"
      ],
      "text/plain": [
       "Empty DataFrame\n",
       "Columns: [revenue, num_purchases, purchase, ab_group, av_site visit]\n",
       "Index: []"
      ]
     },
     "execution_count": 9,
     "metadata": {},
     "output_type": "execute_result"
    }
   ],
   "source": [
    "df[df[\"av_site visit\"] == 0 ]"
   ]
  },
  {
   "cell_type": "code",
   "execution_count": 10,
   "metadata": {},
   "outputs": [],
   "source": [
    "df_new = df[df[\"av_site visit\"] > 0 ]"
   ]
  },
  {
   "cell_type": "code",
   "execution_count": 11,
   "metadata": {},
   "outputs": [
    {
     "data": {
      "text/html": [
       "<div>\n",
       "<style scoped>\n",
       "    .dataframe tbody tr th:only-of-type {\n",
       "        vertical-align: middle;\n",
       "    }\n",
       "\n",
       "    .dataframe tbody tr th {\n",
       "        vertical-align: top;\n",
       "    }\n",
       "\n",
       "    .dataframe thead th {\n",
       "        text-align: right;\n",
       "    }\n",
       "</style>\n",
       "<table border=\"1\" class=\"dataframe\">\n",
       "  <thead>\n",
       "    <tr style=\"text-align: right;\">\n",
       "      <th></th>\n",
       "      <th>revenue</th>\n",
       "      <th>num_purchases</th>\n",
       "      <th>purchase</th>\n",
       "      <th>av_site visit</th>\n",
       "    </tr>\n",
       "  </thead>\n",
       "  <tbody>\n",
       "    <tr>\n",
       "      <th>count</th>\n",
       "      <td>23184.000000</td>\n",
       "      <td>23184.000000</td>\n",
       "      <td>23184.000000</td>\n",
       "      <td>23184.000000</td>\n",
       "    </tr>\n",
       "    <tr>\n",
       "      <th>mean</th>\n",
       "      <td>0.326511</td>\n",
       "      <td>0.043780</td>\n",
       "      <td>0.020704</td>\n",
       "      <td>7.188254</td>\n",
       "    </tr>\n",
       "    <tr>\n",
       "      <th>std</th>\n",
       "      <td>9.645839</td>\n",
       "      <td>1.089462</td>\n",
       "      <td>0.142394</td>\n",
       "      <td>2.924011</td>\n",
       "    </tr>\n",
       "    <tr>\n",
       "      <th>min</th>\n",
       "      <td>0.000000</td>\n",
       "      <td>0.000000</td>\n",
       "      <td>0.000000</td>\n",
       "      <td>0.008679</td>\n",
       "    </tr>\n",
       "    <tr>\n",
       "      <th>25%</th>\n",
       "      <td>0.000000</td>\n",
       "      <td>0.000000</td>\n",
       "      <td>0.000000</td>\n",
       "      <td>5.314379</td>\n",
       "    </tr>\n",
       "    <tr>\n",
       "      <th>50%</th>\n",
       "      <td>0.000000</td>\n",
       "      <td>0.000000</td>\n",
       "      <td>0.000000</td>\n",
       "      <td>7.068656</td>\n",
       "    </tr>\n",
       "    <tr>\n",
       "      <th>75%</th>\n",
       "      <td>0.000000</td>\n",
       "      <td>0.000000</td>\n",
       "      <td>0.000000</td>\n",
       "      <td>8.910900</td>\n",
       "    </tr>\n",
       "    <tr>\n",
       "      <th>max</th>\n",
       "      <td>1303.609284</td>\n",
       "      <td>152.000000</td>\n",
       "      <td>1.000000</td>\n",
       "      <td>22.446822</td>\n",
       "    </tr>\n",
       "  </tbody>\n",
       "</table>\n",
       "</div>"
      ],
      "text/plain": [
       "            revenue  num_purchases      purchase  av_site visit\n",
       "count  23184.000000   23184.000000  23184.000000   23184.000000\n",
       "mean       0.326511       0.043780      0.020704       7.188254\n",
       "std        9.645839       1.089462      0.142394       2.924011\n",
       "min        0.000000       0.000000      0.000000       0.008679\n",
       "25%        0.000000       0.000000      0.000000       5.314379\n",
       "50%        0.000000       0.000000      0.000000       7.068656\n",
       "75%        0.000000       0.000000      0.000000       8.910900\n",
       "max     1303.609284     152.000000      1.000000      22.446822"
      ]
     },
     "execution_count": 11,
     "metadata": {},
     "output_type": "execute_result"
    }
   ],
   "source": [
    "df_new.describe()"
   ]
  },
  {
   "cell_type": "code",
   "execution_count": 12,
   "metadata": {},
   "outputs": [
    {
     "name": "stdout",
     "output_type": "stream",
     "text": [
      "<class 'pandas.core.frame.DataFrame'>\n",
      "Index: 23184 entries, 0 to 23651\n",
      "Data columns (total 5 columns):\n",
      " #   Column         Non-Null Count  Dtype  \n",
      "---  ------         --------------  -----  \n",
      " 0   revenue        23184 non-null  float64\n",
      " 1   num_purchases  23184 non-null  int64  \n",
      " 2   purchase       23184 non-null  int64  \n",
      " 3   ab_group       23184 non-null  object \n",
      " 4   av_site visit  23184 non-null  float64\n",
      "dtypes: float64(2), int64(2), object(1)\n",
      "memory usage: 1.1+ MB\n"
     ]
    }
   ],
   "source": [
    "df_new.info()"
   ]
  },
  {
   "cell_type": "code",
   "execution_count": 13,
   "metadata": {},
   "outputs": [],
   "source": [
    "df_new = df_new.astype({'num_purchases':np.uint16})"
   ]
  },
  {
   "cell_type": "code",
   "execution_count": 16,
   "metadata": {},
   "outputs": [],
   "source": [
    "group_a = df_new[df_new['ab_group'] =='A']\n",
    "group_b = df_new[df_new['ab_group'] =='B']"
   ]
  },
  {
   "cell_type": "code",
   "execution_count": 17,
   "metadata": {},
   "outputs": [
    {
     "data": {
      "text/html": [
       "<div>\n",
       "<style scoped>\n",
       "    .dataframe tbody tr th:only-of-type {\n",
       "        vertical-align: middle;\n",
       "    }\n",
       "\n",
       "    .dataframe tbody tr th {\n",
       "        vertical-align: top;\n",
       "    }\n",
       "\n",
       "    .dataframe thead th {\n",
       "        text-align: right;\n",
       "    }\n",
       "</style>\n",
       "<table border=\"1\" class=\"dataframe\">\n",
       "  <thead>\n",
       "    <tr style=\"text-align: right;\">\n",
       "      <th></th>\n",
       "      <th>revenue</th>\n",
       "      <th>num_purchases</th>\n",
       "      <th>purchase</th>\n",
       "      <th>av_site visit</th>\n",
       "    </tr>\n",
       "  </thead>\n",
       "  <tbody>\n",
       "    <tr>\n",
       "      <th>count</th>\n",
       "      <td>11829.000000</td>\n",
       "      <td>11829.000000</td>\n",
       "      <td>11829.000000</td>\n",
       "      <td>11829.000000</td>\n",
       "    </tr>\n",
       "    <tr>\n",
       "      <th>mean</th>\n",
       "      <td>0.404667</td>\n",
       "      <td>0.050723</td>\n",
       "      <td>0.021642</td>\n",
       "      <td>6.980379</td>\n",
       "    </tr>\n",
       "    <tr>\n",
       "      <th>std</th>\n",
       "      <td>13.136545</td>\n",
       "      <td>1.467883</td>\n",
       "      <td>0.145517</td>\n",
       "      <td>2.004450</td>\n",
       "    </tr>\n",
       "    <tr>\n",
       "      <th>min</th>\n",
       "      <td>0.000000</td>\n",
       "      <td>0.000000</td>\n",
       "      <td>0.000000</td>\n",
       "      <td>0.145466</td>\n",
       "    </tr>\n",
       "    <tr>\n",
       "      <th>25%</th>\n",
       "      <td>0.000000</td>\n",
       "      <td>0.000000</td>\n",
       "      <td>0.000000</td>\n",
       "      <td>5.657590</td>\n",
       "    </tr>\n",
       "    <tr>\n",
       "      <th>50%</th>\n",
       "      <td>0.000000</td>\n",
       "      <td>0.000000</td>\n",
       "      <td>0.000000</td>\n",
       "      <td>6.984166</td>\n",
       "    </tr>\n",
       "    <tr>\n",
       "      <th>75%</th>\n",
       "      <td>0.000000</td>\n",
       "      <td>0.000000</td>\n",
       "      <td>0.000000</td>\n",
       "      <td>8.346243</td>\n",
       "    </tr>\n",
       "    <tr>\n",
       "      <th>max</th>\n",
       "      <td>1303.609284</td>\n",
       "      <td>152.000000</td>\n",
       "      <td>1.000000</td>\n",
       "      <td>17.728836</td>\n",
       "    </tr>\n",
       "  </tbody>\n",
       "</table>\n",
       "</div>"
      ],
      "text/plain": [
       "            revenue  num_purchases      purchase  av_site visit\n",
       "count  11829.000000   11829.000000  11829.000000   11829.000000\n",
       "mean       0.404667       0.050723      0.021642       6.980379\n",
       "std       13.136545       1.467883      0.145517       2.004450\n",
       "min        0.000000       0.000000      0.000000       0.145466\n",
       "25%        0.000000       0.000000      0.000000       5.657590\n",
       "50%        0.000000       0.000000      0.000000       6.984166\n",
       "75%        0.000000       0.000000      0.000000       8.346243\n",
       "max     1303.609284     152.000000      1.000000      17.728836"
      ]
     },
     "execution_count": 17,
     "metadata": {},
     "output_type": "execute_result"
    }
   ],
   "source": [
    "group_a.describe()"
   ]
  },
  {
   "cell_type": "code",
   "execution_count": 18,
   "metadata": {},
   "outputs": [
    {
     "data": {
      "text/html": [
       "<div>\n",
       "<style scoped>\n",
       "    .dataframe tbody tr th:only-of-type {\n",
       "        vertical-align: middle;\n",
       "    }\n",
       "\n",
       "    .dataframe tbody tr th {\n",
       "        vertical-align: top;\n",
       "    }\n",
       "\n",
       "    .dataframe thead th {\n",
       "        text-align: right;\n",
       "    }\n",
       "</style>\n",
       "<table border=\"1\" class=\"dataframe\">\n",
       "  <thead>\n",
       "    <tr style=\"text-align: right;\">\n",
       "      <th></th>\n",
       "      <th>revenue</th>\n",
       "      <th>num_purchases</th>\n",
       "      <th>purchase</th>\n",
       "      <th>av_site visit</th>\n",
       "    </tr>\n",
       "  </thead>\n",
       "  <tbody>\n",
       "    <tr>\n",
       "      <th>count</th>\n",
       "      <td>11355.000000</td>\n",
       "      <td>11355.000000</td>\n",
       "      <td>11355.000000</td>\n",
       "      <td>11355.000000</td>\n",
       "    </tr>\n",
       "    <tr>\n",
       "      <th>mean</th>\n",
       "      <td>0.245093</td>\n",
       "      <td>0.036548</td>\n",
       "      <td>0.019727</td>\n",
       "      <td>7.404806</td>\n",
       "    </tr>\n",
       "    <tr>\n",
       "      <th>std</th>\n",
       "      <td>3.192299</td>\n",
       "      <td>0.422820</td>\n",
       "      <td>0.139067</td>\n",
       "      <td>3.630412</td>\n",
       "    </tr>\n",
       "    <tr>\n",
       "      <th>min</th>\n",
       "      <td>0.000000</td>\n",
       "      <td>0.000000</td>\n",
       "      <td>0.000000</td>\n",
       "      <td>0.008679</td>\n",
       "    </tr>\n",
       "    <tr>\n",
       "      <th>25%</th>\n",
       "      <td>0.000000</td>\n",
       "      <td>0.000000</td>\n",
       "      <td>0.000000</td>\n",
       "      <td>4.746728</td>\n",
       "    </tr>\n",
       "    <tr>\n",
       "      <th>50%</th>\n",
       "      <td>0.000000</td>\n",
       "      <td>0.000000</td>\n",
       "      <td>0.000000</td>\n",
       "      <td>7.262590</td>\n",
       "    </tr>\n",
       "    <tr>\n",
       "      <th>75%</th>\n",
       "      <td>0.000000</td>\n",
       "      <td>0.000000</td>\n",
       "      <td>0.000000</td>\n",
       "      <td>9.889165</td>\n",
       "    </tr>\n",
       "    <tr>\n",
       "      <th>max</th>\n",
       "      <td>113.830000</td>\n",
       "      <td>25.000000</td>\n",
       "      <td>1.000000</td>\n",
       "      <td>22.446822</td>\n",
       "    </tr>\n",
       "  </tbody>\n",
       "</table>\n",
       "</div>"
      ],
      "text/plain": [
       "            revenue  num_purchases      purchase  av_site visit\n",
       "count  11355.000000   11355.000000  11355.000000   11355.000000\n",
       "mean       0.245093       0.036548      0.019727       7.404806\n",
       "std        3.192299       0.422820      0.139067       3.630412\n",
       "min        0.000000       0.000000      0.000000       0.008679\n",
       "25%        0.000000       0.000000      0.000000       4.746728\n",
       "50%        0.000000       0.000000      0.000000       7.262590\n",
       "75%        0.000000       0.000000      0.000000       9.889165\n",
       "max      113.830000      25.000000      1.000000      22.446822"
      ]
     },
     "execution_count": 18,
     "metadata": {},
     "output_type": "execute_result"
    }
   ],
   "source": [
    "group_b.describe()"
   ]
  },
  {
   "cell_type": "code",
   "execution_count": 19,
   "metadata": {},
   "outputs": [
    {
     "data": {
      "text/plain": [
       "(array([138., 144., 170., 226., 235., 248., 308., 352., 369., 408., 443.,\n",
       "        456., 475., 528., 551., 539., 509., 506., 514., 484., 467., 439.,\n",
       "        422., 358., 343., 281., 252., 238., 178., 156., 128., 118.,  81.,\n",
       "         79.,  62.,  40.,  38.,  17.,  13.,   7.,  11.,   8.,   8.,   1.,\n",
       "          1.,   3.,   1.,   1.,   0.,   1.]),\n",
       " array([8.67869372e-03, 4.57441569e-01, 9.06204445e-01, 1.35496732e+00,\n",
       "        1.80373020e+00, 2.25249307e+00, 2.70125595e+00, 3.15001882e+00,\n",
       "        3.59878170e+00, 4.04754458e+00, 4.49630745e+00, 4.94507033e+00,\n",
       "        5.39383320e+00, 5.84259608e+00, 6.29135895e+00, 6.74012183e+00,\n",
       "        7.18888471e+00, 7.63764758e+00, 8.08641046e+00, 8.53517333e+00,\n",
       "        8.98393621e+00, 9.43269908e+00, 9.88146196e+00, 1.03302248e+01,\n",
       "        1.07789877e+01, 1.12277506e+01, 1.16765135e+01, 1.21252763e+01,\n",
       "        1.25740392e+01, 1.30228021e+01, 1.34715650e+01, 1.39203278e+01,\n",
       "        1.43690907e+01, 1.48178536e+01, 1.52666165e+01, 1.57153793e+01,\n",
       "        1.61641422e+01, 1.66129051e+01, 1.70616680e+01, 1.75104308e+01,\n",
       "        1.79591937e+01, 1.84079566e+01, 1.88567195e+01, 1.93054824e+01,\n",
       "        1.97542452e+01, 2.02030081e+01, 2.06517710e+01, 2.11005339e+01,\n",
       "        2.15492967e+01, 2.19980596e+01, 2.24468225e+01]),\n",
       " <BarContainer object of 50 artists>)"
      ]
     },
     "execution_count": 19,
     "metadata": {},
     "output_type": "execute_result"
    },
    {
     "data": {
      "image/png": "[encoded data removed]",
      "text/plain": [
       "<Figure size 1000x1000 with 1 Axes>"
      ]
     },
     "metadata": {},
     "output_type": "display_data"
    }
   ],
   "source": [
    "plt.figure(figsize=(10, 10))\n",
    "control_visit_all = group_a['av_site visit']\n",
    "test_visit_all = group_b['av_site visit']\n",
    "\n",
    "plt.hist(control_visit_all, color='r', bins=50, alpha = 0.5)\n",
    "plt.hist(test_visit_all, bins=50, alpha = 0.5)"
   ]
  },
  {
   "cell_type": "code",
   "execution_count": 20,
   "metadata": {},
   "outputs": [
    {
     "data": {
      "text/plain": [
       "TtestResult(statistic=-10.957295422202266, pvalue=7.54812855183956e-28, df=17530.29639618072)"
      ]
     },
     "execution_count": 20,
     "metadata": {},
     "output_type": "execute_result"
    }
   ],
   "source": [
    "stats.ttest_ind(control_visit_all, test_visit_all, equal_var = False)"
   ]
  },
  {
   "cell_type": "code",
   "execution_count": 21,
   "metadata": {},
   "outputs": [
    {
     "data": {
      "text/plain": [
       "0         9.040174\n",
       "1         4.811628\n",
       "2         7.342623\n",
       "3         7.744581\n",
       "4        10.511814\n",
       "           ...    \n",
       "11830     7.381192\n",
       "11831     9.583301\n",
       "11832     7.290102\n",
       "11833     6.458344\n",
       "11834     9.131360\n",
       "Name: av_site visit, Length: 11829, dtype: float64"
      ]
     },
     "execution_count": 21,
     "metadata": {},
     "output_type": "execute_result"
    }
   ],
   "source": [
    "control_visit_all"
   ]
  },
  {
   "cell_type": "code",
   "execution_count": 22,
   "metadata": {},
   "outputs": [
    {
     "data": {
      "text/plain": [
       "6.980379496709522"
      ]
     },
     "execution_count": 22,
     "metadata": {},
     "output_type": "execute_result"
    }
   ],
   "source": [
    "control_visit_all.mean()"
   ]
  },
  {
   "cell_type": "code",
   "execution_count": 23,
   "metadata": {},
   "outputs": [
    {
     "data": {
      "text/plain": [
       "7.404806266947357"
      ]
     },
     "execution_count": 23,
     "metadata": {},
     "output_type": "execute_result"
    }
   ],
   "source": [
    "test_visit_all.mean()"
   ]
  },
  {
   "cell_type": "code",
   "execution_count": 24,
   "metadata": {},
   "outputs": [],
   "source": [
    "k1 = group_a.purchase.sum()\n",
    "k2 = group_b.purchase.sum()\n",
    "n1 = group_a.shape[0]\n",
    "n2 = group_b.shape[0]"
   ]
  },
  {
   "cell_type": "code",
   "execution_count": 25,
   "metadata": {},
   "outputs": [
    {
     "data": {
      "text/plain": [
       "(256, 224, 11829, 11355)"
      ]
     },
     "execution_count": 25,
     "metadata": {},
     "output_type": "execute_result"
    }
   ],
   "source": [
    "k1,k2,n1,n2"
   ]
  },
  {
   "cell_type": "code",
   "execution_count": 29,
   "metadata": {},
   "outputs": [
    {
     "name": "stdout",
     "output_type": "stream",
     "text": [
      "Results are  chisq =1.048, pvalue = 0.306\n"
     ]
    }
   ],
   "source": [
    "from statsmodels.stats import proportion\n",
    "chisq, pvalue, table = proportion.proportions_chisquare(np.array([k1, k2]),\n",
    "np.array([n1, n2]))\n",
    "\n",
    "print('Results are ','chisq =%.3f, pvalue = %.3f'%(chisq, pvalue))"
   ]
  },
  {
   "cell_type": "code",
   "execution_count": null,
   "metadata": {},
   "outputs": [],
   "source": []
  },
  {
   "cell_type": "code",
   "execution_count": null,
   "metadata": {},
   "outputs": [],
   "source": []
  },
  {
   "cell_type": "code",
   "execution_count": null,
   "metadata": {},
   "outputs": [],
   "source": [
    "mw_stats = stats.mannwhitneyu(x = group_a.num_purchases.values, y = group_b.num_purchases.values)\n",
    "\n",
    "mw_stats"
   ]
  }
 ],
 "metadata": {
  "kernelspec": {
   "display_name": "Python 3",
   "language": "python",
   "name": "python3"
  },
  "language_info": {
   "codemirror_mode": {
    "name": "ipython",
    "version": 3
   },
   "file_extension": ".py",
   "mimetype": "text/x-python",
   "name": "python",
   "nbconvert_exporter": "python",
   "pygments_lexer": "ipython3",
   "version": "3.12.4"
  }
 },
 "nbformat": 4,
 "nbformat_minor": 2
}
