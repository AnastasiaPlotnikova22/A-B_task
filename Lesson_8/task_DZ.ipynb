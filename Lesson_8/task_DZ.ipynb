{
 "cells": [
  {
   "cell_type": "code",
   "execution_count": 8,
   "metadata": {},
   "outputs": [
    {
     "name": "stdout",
     "output_type": "stream",
     "text": [
      "Collecting openpyxl\n",
      "  Downloading openpyxl-3.1.5-py2.py3-none-any.whl.metadata (2.5 kB)\n",
      "Collecting et-xmlfile (from openpyxl)\n",
      "  Downloading et_xmlfile-1.1.0-py3-none-any.whl.metadata (1.8 kB)\n",
      "Downloading openpyxl-3.1.5-py2.py3-none-any.whl (250 kB)\n",
      "   ---------------------------------------- 0.0/250.9 kB ? eta -:--:--\n",
      "   - -------------------------------------- 10.2/250.9 kB ? eta -:--:--\n",
      "   ------ -------------------------------- 41.0/250.9 kB 653.6 kB/s eta 0:00:01\n",
      "   ------------------- -------------------- 122.9/250.9 kB 1.0 MB/s eta 0:00:01\n",
      "   --------------------------- ------------ 174.1/250.9 kB 1.2 MB/s eta 0:00:01\n",
      "   ---------------------------------------- 250.9/250.9 kB 1.3 MB/s eta 0:00:00\n",
      "Downloading et_xmlfile-1.1.0-py3-none-any.whl (4.7 kB)\n",
      "Installing collected packages: et-xmlfile, openpyxl\n",
      "Successfully installed et-xmlfile-1.1.0 openpyxl-3.1.5\n",
      "Note: you may need to restart the kernel to use updated packages.\n"
     ]
    },
    {
     "name": "stderr",
     "output_type": "stream",
     "text": [
      "\n",
      "[notice] A new release of pip is available: 24.0 -> 24.2\n",
      "[notice] To update, run: python.exe -m pip install --upgrade pip\n"
     ]
    }
   ],
   "source": [
    "pip install openpyxl"
   ]
  },
  {
   "cell_type": "code",
   "execution_count": 1,
   "metadata": {},
   "outputs": [],
   "source": [
    "from scipy import stats\n",
    "import numpy as np\n",
    "import matplotlib.pyplot as plt\n",
    "import seaborn as sns\n",
    "import pandas as pd\n",
    "import warnings\n",
    "warnings.filterwarnings('ignore')\n",
    "warnings.warn('DelftStack')\n",
    "warnings.warn('Do not show this message')"
   ]
  },
  {
   "cell_type": "code",
   "execution_count": 12,
   "metadata": {},
   "outputs": [],
   "source": [
    "data = pd.read_excel('AB_Test_Results.xlsx')"
   ]
  },
  {
   "cell_type": "code",
   "execution_count": 13,
   "metadata": {},
   "outputs": [
    {
     "data": {
      "text/html": [
       "<div>\n",
       "<style scoped>\n",
       "    .dataframe tbody tr th:only-of-type {\n",
       "        vertical-align: middle;\n",
       "    }\n",
       "\n",
       "    .dataframe tbody tr th {\n",
       "        vertical-align: top;\n",
       "    }\n",
       "\n",
       "    .dataframe thead th {\n",
       "        text-align: right;\n",
       "    }\n",
       "</style>\n",
       "<table border=\"1\" class=\"dataframe\">\n",
       "  <thead>\n",
       "    <tr style=\"text-align: right;\">\n",
       "      <th></th>\n",
       "      <th>USER_ID</th>\n",
       "      <th>VARIANT_NAME</th>\n",
       "      <th>REVENUE</th>\n",
       "    </tr>\n",
       "  </thead>\n",
       "  <tbody>\n",
       "    <tr>\n",
       "      <th>0</th>\n",
       "      <td>737</td>\n",
       "      <td>variant</td>\n",
       "      <td>0.0</td>\n",
       "    </tr>\n",
       "    <tr>\n",
       "      <th>1</th>\n",
       "      <td>2423</td>\n",
       "      <td>control</td>\n",
       "      <td>0.0</td>\n",
       "    </tr>\n",
       "    <tr>\n",
       "      <th>2</th>\n",
       "      <td>9411</td>\n",
       "      <td>control</td>\n",
       "      <td>0.0</td>\n",
       "    </tr>\n",
       "    <tr>\n",
       "      <th>3</th>\n",
       "      <td>7311</td>\n",
       "      <td>control</td>\n",
       "      <td>0.0</td>\n",
       "    </tr>\n",
       "    <tr>\n",
       "      <th>4</th>\n",
       "      <td>6174</td>\n",
       "      <td>variant</td>\n",
       "      <td>0.0</td>\n",
       "    </tr>\n",
       "  </tbody>\n",
       "</table>\n",
       "</div>"
      ],
      "text/plain": [
       "   USER_ID VARIANT_NAME  REVENUE\n",
       "0      737      variant      0.0\n",
       "1     2423      control      0.0\n",
       "2     9411      control      0.0\n",
       "3     7311      control      0.0\n",
       "4     6174      variant      0.0"
      ]
     },
     "execution_count": 13,
     "metadata": {},
     "output_type": "execute_result"
    }
   ],
   "source": [
    "data.head()"
   ]
  },
  {
   "cell_type": "code",
   "execution_count": 15,
   "metadata": {},
   "outputs": [],
   "source": [
    "# Проверка на наличие дубликатов по 'USER_ID'\n",
    "duplicates = data[data.duplicated(subset='USER_ID', keep=False)]"
   ]
  },
  {
   "cell_type": "code",
   "execution_count": 16,
   "metadata": {},
   "outputs": [
    {
     "name": "stdout",
     "output_type": "stream",
     "text": [
      "Дублирующиеся записи по user_id:\n",
      "      USER_ID VARIANT_NAME  REVENUE\n",
      "0         737      variant      0.0\n",
      "1        2423      control      0.0\n",
      "2        9411      control      0.0\n",
      "3        7311      control      0.0\n",
      "6        2849      control      0.0\n",
      "...       ...          ...      ...\n",
      "9992     9303      variant      0.0\n",
      "9993     2400      variant      0.0\n",
      "9994     3129      control      0.0\n",
      "9995     1981      control      0.0\n",
      "9997     9214      variant      0.0\n",
      "\n",
      "[6336 rows x 3 columns]\n"
     ]
    }
   ],
   "source": [
    "print(\"Дублирующиеся записи по user_id:\")\n",
    "print(duplicates)"
   ]
  },
  {
   "cell_type": "code",
   "execution_count": 18,
   "metadata": {},
   "outputs": [
    {
     "name": "stdout",
     "output_type": "stream",
     "text": [
      "Количество дубликатов: 6336\n",
      "Процент дубликатов: 63.36%\n"
     ]
    }
   ],
   "source": [
    "# Количество дубликатов по 'USER_ID'\n",
    "num_duplicates = data.duplicated(subset='USER_ID', keep=False).sum()\n",
    "\n",
    "# Общее количество записей\n",
    "total_records = len(data)\n",
    "\n",
    "# Процент дубликатов\n",
    "duplicate_percentage = (num_duplicates / total_records) * 100\n",
    "\n",
    "print(f'Количество дубликатов: {num_duplicates}')\n",
    "print(f'Процент дубликатов: {duplicate_percentage:.2f}%')\n"
   ]
  },
  {
   "cell_type": "code",
   "execution_count": 20,
   "metadata": {},
   "outputs": [
    {
     "name": "stdout",
     "output_type": "stream",
     "text": [
      "<class 'pandas.core.frame.DataFrame'>\n",
      "RangeIndex: 10000 entries, 0 to 9999\n",
      "Data columns (total 3 columns):\n",
      " #   Column        Non-Null Count  Dtype  \n",
      "---  ------        --------------  -----  \n",
      " 0   USER_ID       10000 non-null  int64  \n",
      " 1   VARIANT_NAME  10000 non-null  object \n",
      " 2   REVENUE       10000 non-null  float64\n",
      "dtypes: float64(1), int64(1), object(1)\n",
      "memory usage: 234.5+ KB\n"
     ]
    }
   ],
   "source": [
    "data.info()"
   ]
  },
  {
   "cell_type": "markdown",
   "metadata": {},
   "source": [
    "# Филитрация данных по группе variant"
   ]
  },
  {
   "cell_type": "code",
   "execution_count": 21,
   "metadata": {},
   "outputs": [],
   "source": [
    "#Фильтрация данных по группе 'variant':\n",
    "\n",
    "variant_data = data[data['VARIANT_NAME'] == 'variant']"
   ]
  },
  {
   "cell_type": "code",
   "execution_count": 23,
   "metadata": {},
   "outputs": [],
   "source": [
    "#Удаление дубликатов в 'variant':\n",
    "\n",
    "variant_data_unique = variant_data.drop_duplicates(subset='USER_ID', keep='first')"
   ]
  },
  {
   "cell_type": "code",
   "execution_count": 24,
   "metadata": {},
   "outputs": [],
   "source": [
    "#Обновление исходного DataFrame:\n",
    "\n",
    "data_cleaned = pd.concat([variant_data_unique, data[data['VARIANT_NAME'] != 'variant']], ignore_index=True)"
   ]
  },
  {
   "cell_type": "code",
   "execution_count": 26,
   "metadata": {},
   "outputs": [],
   "source": [
    "#Проверка результатов:\n",
    "\n",
    "num_duplicates_after = data_cleaned.duplicated(subset='USER_ID', keep=False).sum()\n",
    "total_records_after = len(data_cleaned)\n",
    "duplicate_percentage_after = (num_duplicates_after / total_records_after) * 100"
   ]
  },
  {
   "cell_type": "code",
   "execution_count": 27,
   "metadata": {},
   "outputs": [
    {
     "name": "stdout",
     "output_type": "stream",
     "text": [
      "Количество дубликатов после удаления: 4691\n",
      "Процент дубликатов после удаления: 52.60%\n"
     ]
    }
   ],
   "source": [
    "print(f'Количество дубликатов после удаления: {num_duplicates_after}')\n",
    "print(f'Процент дубликатов после удаления: {duplicate_percentage_after:.2f}%')"
   ]
  },
  {
   "cell_type": "markdown",
   "metadata": {},
   "source": [
    "# Фильтрация данных по контрольной группе control"
   ]
  },
  {
   "cell_type": "code",
   "execution_count": 29,
   "metadata": {},
   "outputs": [],
   "source": [
    "#Фильтрация данных по контрольной группе 'control':\n",
    "\n",
    "control_data = data[data['VARIANT_NAME'] == 'control']"
   ]
  },
  {
   "cell_type": "code",
   "execution_count": 32,
   "metadata": {},
   "outputs": [],
   "source": [
    "#Удаление дубликатов в контрольной группе:\n",
    "\n",
    "control_data_unique = control_data.drop_duplicates(subset='USER_ID', keep='first')"
   ]
  },
  {
   "cell_type": "code",
   "execution_count": 33,
   "metadata": {},
   "outputs": [],
   "source": [
    "#Обновление исходного DataFrame:\n",
    "\n",
    "data_cleaned = pd.concat([control_data_unique, data[data['VARIANT_NAME'] != 'control']], ignore_index=True)"
   ]
  },
  {
   "cell_type": "code",
   "execution_count": 34,
   "metadata": {},
   "outputs": [],
   "source": [
    "#Проверка результатов:\n",
    "\n",
    "num_duplicates_after = data_cleaned.duplicated(subset='USER_ID', keep=False).sum()\n",
    "total_records_after = len(data_cleaned)\n",
    "duplicate_percentage_after = (num_duplicates_after / total_records_after) * 100"
   ]
  },
  {
   "cell_type": "code",
   "execution_count": 35,
   "metadata": {},
   "outputs": [
    {
     "name": "stdout",
     "output_type": "stream",
     "text": [
      "Количество дубликатов после удаления в контрольной группе: 4727\n",
      "Процент дубликатов после удаления в контрольной группе: 52.83%\n"
     ]
    }
   ],
   "source": [
    "print(f'Количество дубликатов после удаления в контрольной группе: {num_duplicates_after}')\n",
    "print(f'Процент дубликатов после удаления в контрольной группе: {duplicate_percentage_after:.2f}%')"
   ]
  },
  {
   "cell_type": "markdown",
   "metadata": {},
   "source": [
    "\n",
    "### Выводы:\n",
    "1. **Общие данные:** Изначально во всем наборе данных было обнаружено значительное количество дубликатов - 63.36%.\n",
    "2. **Эффективность фильтрации:** После удаления дубликатов в группе 'variant' и в контрольной группе 'control', процент дубликатов значительно снизился до примерно 52.60% и 52.83% соответственно.\n",
    "3. **Рекомендации:** Продолжение мониторинга и обработки данных для улучшения качества и точности анализа. Возможно, стоит также рассмотреть причины возникновения дубликатов и попытаться предотвратить их появление на более ранних этапах сбора данных."
   ]
  },
  {
   "cell_type": "markdown",
   "metadata": {},
   "source": [
    "# Объеденение очищенных данных"
   ]
  },
  {
   "cell_type": "code",
   "execution_count": 48,
   "metadata": {},
   "outputs": [],
   "source": [
    "# Объединение очищенных данных\n",
    "data_cleaned = pd.concat([control_data_unique, variant_data_unique], ignore_index=True)"
   ]
  },
  {
   "cell_type": "code",
   "execution_count": 49,
   "metadata": {},
   "outputs": [],
   "source": [
    "# Проверка количества дубликатов после очистки\n",
    "num_duplicates_after = data_cleaned.duplicated(subset='USER_ID', keep=False).sum()\n",
    "total_records_after = len(data_cleaned)\n",
    "duplicate_percentage_after = (num_duplicates_after / total_records_after) * 100"
   ]
  },
  {
   "cell_type": "code",
   "execution_count": 50,
   "metadata": {},
   "outputs": [
    {
     "name": "stdout",
     "output_type": "stream",
     "text": [
      "Количество дубликатов после удаления: 3082\n",
      "Процент дубликатов после удаления: 39.19%\n"
     ]
    }
   ],
   "source": [
    "print(f'Количество дубликатов после удаления: {num_duplicates_after}')\n",
    "print(f'Процент дубликатов после удаления: {duplicate_percentage_after:.2f}%')"
   ]
  },
  {
   "cell_type": "code",
   "execution_count": 52,
   "metadata": {},
   "outputs": [],
   "source": [
    "# Дополнительная информация для каждой группы\n",
    "control_duplicates_after = control_data_unique.duplicated(subset='USER_ID', keep=False).sum()\n",
    "variant_duplicates_after = variant_data_unique.duplicated(subset='USER_ID', keep=False).sum()"
   ]
  },
  {
   "cell_type": "code",
   "execution_count": 53,
   "metadata": {},
   "outputs": [
    {
     "name": "stdout",
     "output_type": "stream",
     "text": [
      "Количество дубликатов после удаления в контрольной группе: 0\n",
      "Количество дубликатов после удаления в группе \"variant\": 0\n"
     ]
    }
   ],
   "source": [
    "print(f'Количество дубликатов после удаления в контрольной группе: {control_duplicates_after}')\n",
    "print(f'Количество дубликатов после удаления в группе \"variant\": {variant_duplicates_after}')"
   ]
  },
  {
   "cell_type": "code",
   "execution_count": 54,
   "metadata": {},
   "outputs": [
    {
     "data": {
      "text/plain": [
       "<bound method DataFrame.info of       USER_ID VARIANT_NAME  REVENUE\n",
       "0        2423      control      0.0\n",
       "1        9411      control      0.0\n",
       "2        7311      control      0.0\n",
       "3        2849      control      0.0\n",
       "4        9168      control      0.0\n",
       "...       ...          ...      ...\n",
       "7860     2259      variant      0.0\n",
       "7861     4883      variant      0.0\n",
       "7862     8864      variant      0.0\n",
       "7863     9303      variant      0.0\n",
       "7864      502      variant      0.0\n",
       "\n",
       "[7865 rows x 3 columns]>"
      ]
     },
     "execution_count": 54,
     "metadata": {},
     "output_type": "execute_result"
    }
   ],
   "source": [
    "data_cleaned.info"
   ]
  },
  {
   "cell_type": "code",
   "execution_count": 55,
   "metadata": {},
   "outputs": [
    {
     "name": "stdout",
     "output_type": "stream",
     "text": [
      "<class 'pandas.core.frame.DataFrame'>\n",
      "RangeIndex: 7865 entries, 0 to 7864\n",
      "Data columns (total 3 columns):\n",
      " #   Column        Non-Null Count  Dtype  \n",
      "---  ------        --------------  -----  \n",
      " 0   USER_ID       7865 non-null   int64  \n",
      " 1   VARIANT_NAME  7865 non-null   object \n",
      " 2   REVENUE       7865 non-null   float64\n",
      "dtypes: float64(1), int64(1), object(1)\n",
      "memory usage: 184.5+ KB\n"
     ]
    }
   ],
   "source": [
    "data_cleaned.info()"
   ]
  },
  {
   "cell_type": "markdown",
   "metadata": {},
   "source": [
    "# Анализ"
   ]
  },
  {
   "cell_type": "markdown",
   "metadata": {},
   "source": [
    "## 1. Статистика по доходам"
   ]
  },
  {
   "cell_type": "code",
   "execution_count": 56,
   "metadata": {},
   "outputs": [],
   "source": [
    "# Статистики по доходам\n",
    "revenue_stats = data_cleaned.groupby('VARIANT_NAME')['REVENUE'].describe()"
   ]
  },
  {
   "cell_type": "code",
   "execution_count": 57,
   "metadata": {},
   "outputs": [
    {
     "data": {
      "image/png": "[encoded data removed]",
      "text/plain": [
       "<Figure size 1000x600 with 1 Axes>"
      ]
     },
     "metadata": {},
     "output_type": "display_data"
    }
   ],
   "source": [
    "# Визуализация распределения доходов\n",
    "plt.figure(figsize=(10, 6))\n",
    "sns.boxplot(x='VARIANT_NAME', y='REVENUE', data=data_cleaned)\n",
    "plt.title('Распределение доходов по вариантам')\n",
    "plt.xlabel('Вариант')\n",
    "plt.ylabel('Доход')\n",
    "plt.show()"
   ]
  },
  {
   "cell_type": "code",
   "execution_count": 58,
   "metadata": {},
   "outputs": [
    {
     "name": "stdout",
     "output_type": "stream",
     "text": [
      "Статистика по доходам:\n",
      "               count      mean       std  min  25%  50%  75%     max\n",
      "VARIANT_NAME                                                        \n",
      "control       3931.0  0.115078  3.268799  0.0  0.0  0.0  0.0  196.01\n",
      "variant       3934.0  0.064830  1.140386  0.0  0.0  0.0  0.0   57.46\n"
     ]
    }
   ],
   "source": [
    "print(\"Статистика по доходам:\")\n",
    "print(revenue_stats)"
   ]
  },
  {
   "cell_type": "markdown",
   "metadata": {},
   "source": [
    "## 2. Средний доход"
   ]
  },
  {
   "cell_type": "code",
   "execution_count": 59,
   "metadata": {},
   "outputs": [
    {
     "name": "stdout",
     "output_type": "stream",
     "text": [
      "Средний доход по вариантам:\n",
      "VARIANT_NAME\n",
      "control    0.115078\n",
      "variant    0.064830\n",
      "Name: REVENUE, dtype: float64\n"
     ]
    }
   ],
   "source": [
    "# Средний доход по вариантам\n",
    "mean_revenue = data_cleaned.groupby('VARIANT_NAME')['REVENUE'].mean()\n",
    "print(\"Средний доход по вариантам:\")\n",
    "print(mean_revenue)"
   ]
  },
  {
   "cell_type": "code",
   "execution_count": 60,
   "metadata": {},
   "outputs": [
    {
     "data": {
      "image/png": "[encoded data removed]",
      "text/plain": [
       "<Figure size 1000x600 with 1 Axes>"
      ]
     },
     "metadata": {},
     "output_type": "display_data"
    }
   ],
   "source": [
    "# Визуализация\n",
    "plt.figure(figsize=(10, 6))\n",
    "mean_revenue.plot(kind='bar')\n",
    "plt.title('Средний доход по вариантам')\n",
    "plt.xlabel('Вариант')\n",
    "plt.ylabel('Средний доход')\n",
    "plt.show()"
   ]
  },
  {
   "cell_type": "markdown",
   "metadata": {},
   "source": [
    "## 3. Анализ количества уникальных пользователей по вариантам"
   ]
  },
  {
   "cell_type": "code",
   "execution_count": 61,
   "metadata": {},
   "outputs": [
    {
     "name": "stdout",
     "output_type": "stream",
     "text": [
      "Количество уникальных пользователей по вариантам:\n",
      "VARIANT_NAME\n",
      "control    3931\n",
      "variant    3934\n",
      "Name: USER_ID, dtype: int64\n"
     ]
    }
   ],
   "source": [
    "# Количество уникальных пользователей по вариантам\n",
    "unique_users = data_cleaned.groupby('VARIANT_NAME')['USER_ID'].nunique()\n",
    "print(\"Количество уникальных пользователей по вариантам:\")\n",
    "print(unique_users)"
   ]
  },
  {
   "cell_type": "code",
   "execution_count": 62,
   "metadata": {},
   "outputs": [
    {
     "data": {
      "image/png": "[encoded data removed]",
      "text/plain": [
       "<Figure size 1000x600 with 1 Axes>"
      ]
     },
     "metadata": {},
     "output_type": "display_data"
    }
   ],
   "source": [
    "# Визуализация\n",
    "plt.figure(figsize=(10, 6))\n",
    "unique_users.plot(kind='bar')\n",
    "plt.title('Количество уникальных пользователей по вариантам')\n",
    "plt.xlabel('Вариант')\n",
    "plt.ylabel('Количество уникальных пользователей')\n",
    "plt.show()"
   ]
  },
  {
   "cell_type": "markdown",
   "metadata": {},
   "source": [
    "## 4. Анализ влияния варианта на доход:"
   ]
  },
  {
   "cell_type": "code",
   "execution_count": 67,
   "metadata": {},
   "outputs": [],
   "source": [
    "from scipy.stats import ttest_ind"
   ]
  },
  {
   "cell_type": "code",
   "execution_count": 65,
   "metadata": {},
   "outputs": [],
   "source": [
    "# Доходы по вариантам\n",
    "revenue_control = data_cleaned[data_cleaned['VARIANT_NAME'] == 'control']['REVENUE']\n",
    "revenue_variant = data_cleaned[data_cleaned['VARIANT_NAME'] == 'variant']['REVENUE']"
   ]
  },
  {
   "cell_type": "code",
   "execution_count": 68,
   "metadata": {},
   "outputs": [
    {
     "name": "stdout",
     "output_type": "stream",
     "text": [
      "Результаты t-теста:\n",
      "t-статистика: 0.9103, p-значение: 0.3627\n"
     ]
    }
   ],
   "source": [
    "# t-тест для проверки значимости разницы\n",
    "t_stat, p_value = ttest_ind(revenue_control, revenue_variant)\n",
    "print(\"Результаты t-теста:\")\n",
    "print(f\"t-статистика: {t_stat:.4f}, p-значение: {p_value:.4f}\")"
   ]
  }
 ],
 "metadata": {
  "kernelspec": {
   "display_name": "Python 3",
   "language": "python",
   "name": "python3"
  },
  "language_info": {
   "codemirror_mode": {
    "name": "ipython",
    "version": 3
   },
   "file_extension": ".py",
   "mimetype": "text/x-python",
   "name": "python",
   "nbconvert_exporter": "python",
   "pygments_lexer": "ipython3",
   "version": "3.12.4"
  }
 },
 "nbformat": 4,
 "nbformat_minor": 2
}
