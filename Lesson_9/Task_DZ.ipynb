{
 "cells": [
  {
   "cell_type": "code",
   "execution_count": 2,
   "metadata": {},
   "outputs": [
    {
     "name": "stdout",
     "output_type": "stream",
     "text": [
      "Requirement already satisfied: openpyxl in c:\\python\\lib\\site-packages (3.1.5)\n",
      "Requirement already satisfied: et-xmlfile in c:\\python\\lib\\site-packages (from openpyxl) (1.1.0)\n",
      "Note: you may need to restart the kernel to use updated packages.\n"
     ]
    },
    {
     "name": "stderr",
     "output_type": "stream",
     "text": [
      "\n",
      "[notice] A new release of pip is available: 24.0 -> 24.2\n",
      "[notice] To update, run: python.exe -m pip install --upgrade pip\n"
     ]
    }
   ],
   "source": [
    "pip install openpyxl"
   ]
  },
  {
   "cell_type": "code",
   "execution_count": 22,
   "metadata": {},
   "outputs": [],
   "source": [
    "from statsmodels.stats.proportion import proportions_ztest"
   ]
  },
  {
   "cell_type": "code",
   "execution_count": 3,
   "metadata": {},
   "outputs": [],
   "source": [
    "from scipy import stats\n",
    "import numpy as np\n",
    "import matplotlib.pyplot as plt\n",
    "import seaborn as sns\n",
    "import pandas as pd\n",
    "import warnings\n",
    "warnings.filterwarnings('ignore')\n",
    "warnings.warn('DelftStack')\n",
    "warnings.warn('Do not show this message')"
   ]
  },
  {
   "cell_type": "code",
   "execution_count": 4,
   "metadata": {},
   "outputs": [],
   "source": [
    "data = pd.read_excel('результаты А_B.xlsx')"
   ]
  },
  {
   "cell_type": "code",
   "execution_count": 5,
   "metadata": {},
   "outputs": [
    {
     "data": {
      "text/html": [
       "<div>\n",
       "<style scoped>\n",
       "    .dataframe tbody tr th:only-of-type {\n",
       "        vertical-align: middle;\n",
       "    }\n",
       "\n",
       "    .dataframe tbody tr th {\n",
       "        vertical-align: top;\n",
       "    }\n",
       "\n",
       "    .dataframe thead th {\n",
       "        text-align: right;\n",
       "    }\n",
       "</style>\n",
       "<table border=\"1\" class=\"dataframe\">\n",
       "  <thead>\n",
       "    <tr style=\"text-align: right;\">\n",
       "      <th></th>\n",
       "      <th>userid</th>\n",
       "      <th>version</th>\n",
       "      <th>sum_gamerounds</th>\n",
       "      <th>retention_1</th>\n",
       "      <th>retention_7</th>\n",
       "    </tr>\n",
       "  </thead>\n",
       "  <tbody>\n",
       "    <tr>\n",
       "      <th>0</th>\n",
       "      <td>116</td>\n",
       "      <td>gate_30</td>\n",
       "      <td>3</td>\n",
       "      <td>0</td>\n",
       "      <td>0</td>\n",
       "    </tr>\n",
       "    <tr>\n",
       "      <th>1</th>\n",
       "      <td>337</td>\n",
       "      <td>gate_30</td>\n",
       "      <td>38</td>\n",
       "      <td>1</td>\n",
       "      <td>0</td>\n",
       "    </tr>\n",
       "    <tr>\n",
       "      <th>2</th>\n",
       "      <td>377</td>\n",
       "      <td>gate_40</td>\n",
       "      <td>165</td>\n",
       "      <td>1</td>\n",
       "      <td>0</td>\n",
       "    </tr>\n",
       "    <tr>\n",
       "      <th>3</th>\n",
       "      <td>483</td>\n",
       "      <td>gate_40</td>\n",
       "      <td>1</td>\n",
       "      <td>0</td>\n",
       "      <td>0</td>\n",
       "    </tr>\n",
       "    <tr>\n",
       "      <th>4</th>\n",
       "      <td>488</td>\n",
       "      <td>gate_40</td>\n",
       "      <td>179</td>\n",
       "      <td>1</td>\n",
       "      <td>1</td>\n",
       "    </tr>\n",
       "  </tbody>\n",
       "</table>\n",
       "</div>"
      ],
      "text/plain": [
       "   userid  version  sum_gamerounds  retention_1  retention_7\n",
       "0     116  gate_30               3            0            0\n",
       "1     337  gate_30              38            1            0\n",
       "2     377  gate_40             165            1            0\n",
       "3     483  gate_40               1            0            0\n",
       "4     488  gate_40             179            1            1"
      ]
     },
     "execution_count": 5,
     "metadata": {},
     "output_type": "execute_result"
    }
   ],
   "source": [
    "data.head()"
   ]
  },
  {
   "cell_type": "code",
   "execution_count": 6,
   "metadata": {},
   "outputs": [
    {
     "name": "stdout",
     "output_type": "stream",
     "text": [
      "<class 'pandas.core.frame.DataFrame'>\n",
      "RangeIndex: 90189 entries, 0 to 90188\n",
      "Data columns (total 5 columns):\n",
      " #   Column          Non-Null Count  Dtype \n",
      "---  ------          --------------  ----- \n",
      " 0   userid          90189 non-null  int64 \n",
      " 1   version         90189 non-null  object\n",
      " 2   sum_gamerounds  90189 non-null  int64 \n",
      " 3   retention_1     90189 non-null  int64 \n",
      " 4   retention_7     90189 non-null  int64 \n",
      "dtypes: int64(4), object(1)\n",
      "memory usage: 3.4+ MB\n"
     ]
    }
   ],
   "source": [
    "data.info()"
   ]
  },
  {
   "cell_type": "code",
   "execution_count": 7,
   "metadata": {},
   "outputs": [
    {
     "data": {
      "text/plain": [
       "<bound method DataFrame.info of         userid  version  sum_gamerounds  retention_1  retention_7\n",
       "0          116  gate_30               3            0            0\n",
       "1          337  gate_30              38            1            0\n",
       "2          377  gate_40             165            1            0\n",
       "3          483  gate_40               1            0            0\n",
       "4          488  gate_40             179            1            1\n",
       "...        ...      ...             ...          ...          ...\n",
       "90184  9999441  gate_40              97            1            0\n",
       "90185  9999479  gate_40              30            0            0\n",
       "90186  9999710  gate_30              28            1            0\n",
       "90187  9999768  gate_40              51            1            0\n",
       "90188  9999861  gate_40              16            0            0\n",
       "\n",
       "[90189 rows x 5 columns]>"
      ]
     },
     "execution_count": 7,
     "metadata": {},
     "output_type": "execute_result"
    }
   ],
   "source": [
    "data.info"
   ]
  },
  {
   "cell_type": "markdown",
   "metadata": {},
   "source": [
    "# 1. Оценка среднего количества игровых раундов (sum_gamerounds):"
   ]
  },
  {
   "cell_type": "code",
   "execution_count": 8,
   "metadata": {},
   "outputs": [
    {
     "name": "stdout",
     "output_type": "stream",
     "text": [
      "   userid  version  sum_gamerounds  retention_1  retention_7\n",
      "0     116  gate_30               3            0            0\n",
      "1     337  gate_30              38            1            0\n",
      "2     377  gate_40             165            1            0\n",
      "3     483  gate_40               1            0            0\n",
      "4     488  gate_40             179            1            1\n"
     ]
    }
   ],
   "source": [
    "# Просмотр данных для проверки структуры\n",
    "print(data.head())"
   ]
  },
  {
   "cell_type": "code",
   "execution_count": 9,
   "metadata": {},
   "outputs": [
    {
     "name": "stdout",
     "output_type": "stream",
     "text": [
      "Среднее количество игровых раундов по версиям:\n",
      "version\n",
      "gate_30    52.456264\n",
      "gate_40    51.298776\n",
      "Name: sum_gamerounds, dtype: float64\n"
     ]
    }
   ],
   "source": [
    "# Вычисление среднего количества игровых раундов для каждой версии игры\n",
    "mean_rounds = data.groupby('version')['sum_gamerounds'].mean()\n",
    "\n",
    "print(\"Среднее количество игровых раундов по версиям:\")\n",
    "print(mean_rounds)\n"
   ]
  },
  {
   "cell_type": "code",
   "execution_count": 11,
   "metadata": {},
   "outputs": [],
   "source": [
    "from scipy.stats import ttest_ind\n",
    "\n",
    "# Разделение данных на две группы\n",
    "gate_30_rounds = data[data['version'] == 'gate_30']['sum_gamerounds']\n",
    "gate_40_rounds = data[data['version'] == 'gate_40']['sum_gamerounds']"
   ]
  },
  {
   "cell_type": "code",
   "execution_count": 12,
   "metadata": {},
   "outputs": [
    {
     "name": "stdout",
     "output_type": "stream",
     "text": [
      "t-статистика: 0.8910426211362967\n",
      "p-value: 0.37290868247405207\n",
      "Различия не являются статистически значимыми.\n"
     ]
    }
   ],
   "source": [
    "# Проведение t-теста\n",
    "t_statistic, p_value = ttest_ind(gate_30_rounds, gate_40_rounds)\n",
    "\n",
    "print(f\"t-статистика: {t_statistic}\")\n",
    "print(f\"p-value: {p_value}\")\n",
    "\n",
    "if p_value < 0.05:\n",
    "    print(\"Различия статистически значимы.\")\n",
    "else:\n",
    "    print(\"Различия не являются статистически значимыми.\")\n"
   ]
  },
  {
   "cell_type": "markdown",
   "metadata": {},
   "source": [
    "# 2. Оценка уровня удержания (retention):"
   ]
  },
  {
   "cell_type": "code",
   "execution_count": 14,
   "metadata": {},
   "outputs": [
    {
     "name": "stdout",
     "output_type": "stream",
     "text": [
      "Процент удержания через 1 день по версиям:\n",
      "version\n",
      "gate_30    44.818792\n",
      "gate_40    44.228275\n",
      "Name: retention_1, dtype: float64\n"
     ]
    }
   ],
   "source": [
    "# Вычисление процента удержания через 1 день для каждой версии\n",
    "retention_1 = data.groupby('version')['retention_1'].mean() * 100\n",
    "\n",
    "print(\"Процент удержания через 1 день по версиям:\")\n",
    "print(retention_1)"
   ]
  },
  {
   "cell_type": "code",
   "execution_count": 15,
   "metadata": {},
   "outputs": [
    {
     "name": "stdout",
     "output_type": "stream",
     "text": [
      "Процент удержания через 7 дней по версиям:\n",
      "version\n",
      "gate_30    19.020134\n",
      "gate_40    18.200004\n",
      "Name: retention_7, dtype: float64\n"
     ]
    }
   ],
   "source": [
    "\n",
    "\n",
    "# Вычисление процента удержания через 7 дней для каждой версии\n",
    "retention_7 = data.groupby('version')['retention_7'].mean() * 100\n",
    "\n",
    "print(\"Процент удержания через 7 дней по версиям:\")\n",
    "print(retention_7)\n"
   ]
  },
  {
   "cell_type": "code",
   "execution_count": 19,
   "metadata": {},
   "outputs": [
    {
     "data": {
      "image/png": "[encoded data removed]",
      "text/plain": [
       "<Figure size 640x480 with 1 Axes>"
      ]
     },
     "metadata": {},
     "output_type": "display_data"
    }
   ],
   "source": [
    "# Визуализация процента удержания через 1 день\n",
    "retention_1.plot(kind='bar', color=['skyblue', 'salmon'])\n",
    "plt.title('Процент удержания через 1 день')\n",
    "plt.xlabel('Версия игры')\n",
    "plt.ylabel('Процент удержания')\n",
    "plt.show()\n"
   ]
  },
  {
   "cell_type": "code",
   "execution_count": 17,
   "metadata": {},
   "outputs": [
    {
     "data": {
      "image/png": "[encoded data removed]",
      "text/plain": [
       "<Figure size 640x480 with 1 Axes>"
      ]
     },
     "metadata": {},
     "output_type": "display_data"
    }
   ],
   "source": [
    "# Визуализация процента удержания через 7 дней\n",
    "retention_7.plot(kind='bar', color=['skyblue', 'salmon'])\n",
    "plt.title('Процент удержания через 7 дней')\n",
    "plt.xlabel('Версия игры')\n",
    "plt.ylabel('Процент удержания')\n",
    "plt.show()"
   ]
  },
  {
   "cell_type": "code",
   "execution_count": 20,
   "metadata": {},
   "outputs": [],
   "source": [
    "# Данные для z-теста\n",
    "counts_1 = data.groupby('version')['retention_1'].sum()\n",
    "nobs_1 = data.groupby('version')['retention_1'].count()\n",
    "counts_7 = data.groupby('version')['retention_7'].sum()\n",
    "nobs_7 = data.groupby('version')['retention_7'].count()"
   ]
  },
  {
   "cell_type": "code",
   "execution_count": 23,
   "metadata": {},
   "outputs": [
    {
     "name": "stdout",
     "output_type": "stream",
     "text": [
      "Z-статистика для удержания через 1 день: 1.7840862247974725\n",
      "p-value для удержания через 1 день: 0.07440965529691913\n"
     ]
    }
   ],
   "source": [
    "# Z-тест для удержания через 1 день\n",
    "z_stat_1, p_value_1 = proportions_ztest(count=counts_1, nobs=nobs_1)\n",
    "print(f\"Z-статистика для удержания через 1 день: {z_stat_1}\")\n",
    "print(f\"p-value для удержания через 1 день: {p_value_1}\")"
   ]
  },
  {
   "cell_type": "code",
   "execution_count": 24,
   "metadata": {},
   "outputs": [
    {
     "name": "stdout",
     "output_type": "stream",
     "text": [
      "Z-статистика для удержания через 7 дней: 3.164358912748191\n",
      "p-value для удержания через 7 дней: 0.001554249975614329\n"
     ]
    }
   ],
   "source": [
    "# Z-тест для удержания через 7 дней\n",
    "z_stat_7, p_value_7 = proportions_ztest(count=counts_7, nobs=nobs_7)\n",
    "print(f\"Z-статистика для удержания через 7 дней: {z_stat_7}\")\n",
    "print(f\"p-value для удержания через 7 дней: {p_value_7}\")"
   ]
  },
  {
   "cell_type": "markdown",
   "metadata": {},
   "source": [
    "## Вывод\n",
    "\n",
    "На основе анализа данных можно рекомендовать использовать версию `gate_30`, так как она показывает статистически значимое улучшение в удержании игроков через 7 дней. Несмотря на то, что различия в удержании через 1 день не являются статистически значимыми, более высокий показатель удержания через 7 дней важен для долгосрочного успеха игры."
   ]
  },
  {
   "cell_type": "markdown",
   "metadata": {},
   "source": [
    "# 3. Статистический анализ:"
   ]
  },
  {
   "cell_type": "code",
   "execution_count": 25,
   "metadata": {},
   "outputs": [],
   "source": [
    "# Разделение данных на группы gate_30 и gate_40\n",
    "gate_30 = data[data['version'] == 'gate_30']\n",
    "gate_40 = data[data['version'] == 'gate_40']"
   ]
  },
  {
   "cell_type": "code",
   "execution_count": 26,
   "metadata": {},
   "outputs": [
    {
     "name": "stdout",
     "output_type": "stream",
     "text": [
      "Количество игровых раундов: t-статистика = 0.8910426211362967, p-value = 0.37290868247405207\n"
     ]
    }
   ],
   "source": [
    "# Проведение t-теста для количества игровых раундов (sum_gamerounds)\n",
    "t_stat_rounds, p_value_rounds = stats.ttest_ind(gate_30['sum_gamerounds'], gate_40['sum_gamerounds'])\n",
    "print(f'Количество игровых раундов: t-статистика = {t_stat_rounds}, p-value = {p_value_rounds}')"
   ]
  },
  {
   "cell_type": "code",
   "execution_count": 27,
   "metadata": {},
   "outputs": [
    {
     "name": "stdout",
     "output_type": "stream",
     "text": [
      "Уровень удержания через 1 день: t-статистика = 1.7840979256519656, p-value = 0.07441111525563184\n"
     ]
    }
   ],
   "source": [
    "# Проведение t-теста для уровня удержания через 1 день (retention_1)\n",
    "t_stat_retention_1, p_value_retention_1 = stats.ttest_ind(gate_30['retention_1'], gate_40['retention_1'])\n",
    "print(f'Уровень удержания через 1 день: t-статистика = {t_stat_retention_1}, p-value = {p_value_retention_1}')"
   ]
  },
  {
   "cell_type": "code",
   "execution_count": 28,
   "metadata": {},
   "outputs": [
    {
     "name": "stdout",
     "output_type": "stream",
     "text": [
      "Уровень удержания через 7 дней: t-статистика = 3.1644994996802778, p-value = 0.0015540151201088365\n"
     ]
    }
   ],
   "source": [
    "# Проведение t-теста для уровня удержания через 7 дней (retention_7)\n",
    "t_stat_retention_7, p_value_retention_7 = stats.ttest_ind(gate_30['retention_7'], gate_40['retention_7'])\n",
    "print(f'Уровень удержания через 7 дней: t-статистика = {t_stat_retention_7}, p-value = {p_value_retention_7}')"
   ]
  },
  {
   "cell_type": "markdown",
   "metadata": {},
   "source": [
    "# 4. Планирование дальнейших шагов:"
   ]
  },
  {
   "cell_type": "markdown",
   "metadata": {},
   "source": [
    "1. **Дополнительный анализ удержания через 1 день:**\n",
    "   - Поскольку значение p-value для удержания через 1 день (0.074) находится на грани статистической значимости, стоит провести более глубокий анализ этой метрики. Возможно, стоит увеличить объем данных или использовать альтернативные статистические методы для подтверждения результатов.\n",
    "\n",
    "2. **Исследование долгосрочного удержания:**\n",
    "   - Для удержания через 7 дней было выявлено статистически значимое различие. Чтобы более полно понять этот эффект, следует рассмотреть динамику удержания на более длинных временных интервалах (например, через 14 или 30 дней). Это поможет оценить долгосрочное влияние изменений в дизайне на удержание игроков.\n",
    "\n",
    "3. **Изучение поведения игроков в зависимости от версии:**\n",
    "   - Проведение дополнительного исследования или опроса среди игроков может помочь понять, как изменения в дизайне влияют на их игровое поведение и удовлетворение от игры. Это может включать анализ игровых сессий, использование игровых элементов и взаимодействие с новым дизайном.\n",
    "\n",
    "4. **Применение дополнительных статистических методов:**\n",
    "   - В зависимости от конкретных данных и обстоятельств, можно рассмотреть использование более сложных статистических моделей или аналитических подходов для более глубокого анализа и интерпретации результатов."
   ]
  }
 ],
 "metadata": {
  "kernelspec": {
   "display_name": "Python 3",
   "language": "python",
   "name": "python3"
  },
  "language_info": {
   "codemirror_mode": {
    "name": "ipython",
    "version": 3
   },
   "file_extension": ".py",
   "mimetype": "text/x-python",
   "name": "python",
   "nbconvert_exporter": "python",
   "pygments_lexer": "ipython3",
   "version": "3.12.4"
  }
 },
 "nbformat": 4,
 "nbformat_minor": 2
}
